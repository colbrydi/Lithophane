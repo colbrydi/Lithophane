{
 "cells": [
  {
   "cell_type": "markdown",
   "metadata": {
    "colab_type": "text",
    "id": "view-in-github"
   },
   "source": [
    "<a href=\"https://colab.research.google.com/github/colbrydi/Lithophane/blob/master/Lithophane_Example.ipynb\" target=\"_parent\"><img src=\"https://colab.research.google.com/assets/colab-badge.svg\" alt=\"Open In Colab\"/></a>"
   ]
  },
  {
   "cell_type": "markdown",
   "metadata": {
    "colab_type": "text",
    "id": "6P86_BCXuoQL"
   },
   "source": [
    "# Lithophane Example \n",
    "written by Dirk Colbry\n",
    "The sphere generator by Kunihiko Miyoshi\n",
    "\n",
    "Simple Example without all of the explaination. For a more detailed description see [Lithophane Tutorial](Lithophane_Tutorial.ipynb)"
   ]
  },
  {
   "cell_type": "code",
   "execution_count": null,
   "metadata": {
    "colab": {},
    "colab_type": "code",
    "id": "suEz-fCAL0wP",
    "tags": []
   },
   "outputs": [],
   "source": [
    "#Install numpy-stl library (needed to save stl file)\n",
    "!pip install numpy-stl"
   ]
  },
  {
   "cell_type": "code",
   "execution_count": null,
   "metadata": {
    "colab": {},
    "colab_type": "code",
    "id": "HateldyOLvkE"
   },
   "outputs": [],
   "source": [
    "import urllib\n",
    "imageurl = 'https://insideindiana.images.worldnow.com/images/9914370_G.jpg?auto=webp&disable=upscale&height=560&fit=bounds'\n",
    "urllib.request.urlretrieve('https://raw.githubusercontent.com/colbrydi/Lithophane/master/lithophane.py', 'lithophane.py')\n",
    "urllib.request.urlretrieve(imageurl, 'image.jpg')"
   ]
  },
  {
   "cell_type": "code",
   "execution_count": null,
   "metadata": {
    "colab": {
     "base_uri": "https://localhost:8080/",
     "height": 72
    },
    "colab_type": "code",
    "id": "JkSl5WYzuoQc",
    "outputId": "6da89847-9c7c-4d96-b808-40de05f6d078"
   },
   "outputs": [],
   "source": [
    "#import lithophane funcitons\n",
    "import lithophane as li"
   ]
  },
  {
   "cell_type": "code",
   "execution_count": null,
   "metadata": {
    "colab": {
     "base_uri": "https://localhost:8080/",
     "height": 260
    },
    "colab_type": "code",
    "id": "CDrw-HPPuoQh",
    "outputId": "e3096c1c-6e63-40c4-c404-05142a967a80",
    "scrolled": true,
    "tags": []
   },
   "outputs": [],
   "source": [
    "#Generate xyz point cloud\n",
    "imagefile = './image.jpg'\n",
    "width = 102 #Width in mm\n",
    "x,y,z = li.jpg2stl(imagefile, width=width, h = 3, d = 0.5)\n"
   ]
  },
  {
   "cell_type": "code",
   "execution_count": null,
   "metadata": {
    "colab": {
     "base_uri": "https://localhost:8080/",
     "height": 248
    },
    "colab_type": "code",
    "id": "w28nKuXGLqLJ",
    "outputId": "e3d8a2eb-977b-418c-a865-2d2d7aa05b33"
   },
   "outputs": [],
   "source": [
    "#Show the point cloud\n",
    "li.showstl(x,y,z)"
   ]
  },
  {
   "cell_type": "code",
   "execution_count": null,
   "metadata": {
    "colab": {
     "base_uri": "https://localhost:8080/",
     "height": 34
    },
    "colab_type": "code",
    "id": "Uyt5BBu3uoQl",
    "outputId": "c2fd0fc8-5810-4533-924d-624d1d5dded8"
   },
   "outputs": [],
   "source": [
    "#Generate stl model from pointcloud and save\n",
    "model = li.makemesh(x,y,z);\n",
    "filename=imagefile[:-4] + '_Flat.stl'\n",
    "model.save(filename)"
   ]
  },
  {
   "cell_type": "code",
   "execution_count": null,
   "metadata": {
    "colab": {
     "base_uri": "https://localhost:8080/",
     "height": 265
    },
    "colab_type": "code",
    "id": "BHu6kTp_31Gk",
    "outputId": "7e55e6ac-d1e3-48b6-b7b5-dd7086416d1f",
    "tags": []
   },
   "outputs": [],
   "source": [
    "# Turn the flat pointcloud into a cylinder\n",
    "cx,cy,cz = li.makeCylinder(x,y,z)\n",
    "li.showstl(cx,cy,cz)"
   ]
  },
  {
   "cell_type": "code",
   "execution_count": null,
   "metadata": {
    "colab": {},
    "colab_type": "code",
    "id": "gPqRf12wuoRB"
   },
   "outputs": [],
   "source": [
    "#Save the Cylinder Model\n",
    "model = li.makemesh(cx,cy,cz);\n",
    "filename=imagefile[:-4] + '_Cylinder.stl'\n",
    "model.save(filename)"
   ]
  },
  {
   "cell_type": "code",
   "execution_count": null,
   "metadata": {
    "tags": []
   },
   "outputs": [],
   "source": [
    "# Trun the flat pointcloud into a sphere\n",
    "sfront, sback = li.makeSphere(x,y,z)\n",
    "li.showstl(*sfront)\n"
   ]
  },
  {
   "cell_type": "code",
   "execution_count": null,
   "metadata": {},
   "outputs": [],
   "source": [
    "#Save the Sphere Model\n",
    "model = li.makeMeshSphere(sfront, sback)\n",
    "filename=imagefile[:-4] + '_Sphere.stl'\n",
    "model.save(filename)"
   ]
  },
  {
   "cell_type": "markdown",
   "metadata": {
    "colab_type": "text",
    "id": "FC8na-nVN3fB"
   },
   "source": [
    "You should be done. Click on the folder icon to the left of this message and download your stl files."
   ]
  },
  {
   "cell_type": "markdown",
   "metadata": {
    "colab_type": "text",
    "id": "5AF8JqeiLqLl"
   },
   "source": [
    "&#169; Copyright 2019,  Dirk Colbry "
   ]
  }
 ],
 "metadata": {
  "colab": {
   "include_colab_link": true,
   "name": "Lithophane_making.ipynb",
   "provenance": []
  },
  "kernelspec": {
   "display_name": "Python 3",
   "language": "python",
   "name": "python3"
  },
  "language_info": {
   "codemirror_mode": {
    "name": "ipython",
    "version": 3
   },
   "file_extension": ".py",
   "mimetype": "text/x-python",
   "name": "python",
   "nbconvert_exporter": "python",
   "pygments_lexer": "ipython3",
   "version": "3.8.3-final"
  }
 },
 "nbformat": 4,
 "nbformat_minor": 1
}